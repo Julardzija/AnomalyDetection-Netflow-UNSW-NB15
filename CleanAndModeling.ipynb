{
  "cells": [
    {
      "cell_type": "code",
      "execution_count": null,
      "metadata": {
        "colab": {
          "base_uri": "https://localhost:8080/"
        },
        "id": "bVPZhN1lmzv7",
        "outputId": "446bbc7a-699d-4fe3-a3d5-e1122c697756"
      },
      "outputs": [
        {
          "output_type": "stream",
          "name": "stdout",
          "text": [
            "Drive already mounted at /content/drive; to attempt to forcibly remount, call drive.mount(\"/content/drive\", force_remount=True).\n",
            "(24347, 14)\n",
            "                                        0              1              2\n",
            "IPV4_SRC_ADDR                  59.166.0.8     59.166.0.6     59.166.0.7\n",
            "L4_SRC_PORT                         22023          26214          10429\n",
            "IPV4_DST_ADDR               149.171.126.2  149.171.126.9  149.171.126.2\n",
            "L4_DST_PORT                          1577          37823           2854\n",
            "PROTOCOL                                6             17              6\n",
            "L7_PROTO                             36.0           11.0            0.0\n",
            "IN_BYTES                             2854            536           2766\n",
            "OUT_BYTES                           30622            304          25812\n",
            "IN_PKTS                                46              4             44\n",
            "OUT_PKTS                               48              4             46\n",
            "TCP_FLAGS                              27              0             27\n",
            "FLOW_DURATION_MILLISECONDS             23              1              0\n",
            "Label                                   0              0              0\n",
            "Attack                             Benign         Benign         Benign\n"
          ]
        }
      ],
      "source": [
        "import numpy as np # linear algebra\n",
        "import pandas as pd # data processing, CSV file I/O (e.g. pd.read_csv)\n",
        "\n",
        "# Get access to Google Drive\n",
        "from google.colab import drive\n",
        "drive.mount('/content/drive')\n",
        "\n",
        "# Define the path\n",
        "dataset_path = \"/content/drive/My Drive/Projects (Github)/NF-UNSW-NB15/subset-NF-UNSW-NB15-dataset.csv\"\n",
        "\n",
        "# Load the dataset\n",
        "df = pd.read_csv(dataset_path, sep=',', encoding='utf-8')\n",
        "\n",
        "# Check dimensions\n",
        "print(df.shape)\n",
        "\n",
        "# Print the first three rows and transform the output due to the dimensions\n",
        "print(df.head(3).T)"
      ]
    },
    {
      "cell_type": "code",
      "execution_count": null,
      "metadata": {
        "colab": {
          "base_uri": "https://localhost:8080/"
        },
        "id": "k7WZdyuZmzwK",
        "outputId": "4edc50aa-6b89-4034-fd48-4fbb6dadf16f"
      },
      "outputs": [
        {
          "output_type": "stream",
          "name": "stdout",
          "text": [
            "0 rows with at least one NaN to remove\n",
            "15 duplicate rows to remove\n"
          ]
        }
      ],
      "source": [
        "# Remove any rows with missing values\n",
        "\n",
        "# Replace infinite values (if any) with NaNs in the DataFrame\n",
        "df.replace([np.inf, -np.inf], np.nan, inplace=True)\n",
        "# Print the number of rows in the DataFrame that contain at least one NaN\n",
        "print(df.isna().any(axis=1).sum(), \"rows with at least one NaN to remove\")\n",
        "# Remove rows from the DataFrame that contain at least one NaN - there is none in the dataset\n",
        "df.dropna(inplace=True)\n",
        "\n",
        "\n",
        "# Remove any rows that is a duplicate\n",
        "# Print the number of rows in the DataFrame that are duplicated\n",
        "print(df.duplicated().sum(), \"duplicate rows to remove\")\n",
        "# Remove duplicated rows from the DataFrame\n",
        "df.drop_duplicates(inplace=True)\n",
        "# Reset the DataFrame's index and drop the old index column\n",
        "df.reset_index(inplace=True, drop=True)\n",
        "\n"
      ]
    },
    {
      "cell_type": "code",
      "execution_count": null,
      "metadata": {
        "colab": {
          "base_uri": "https://localhost:8080/"
        },
        "id": "lxab5PjDmzwN",
        "outputId": "9fdaeaec-7d5f-473d-ffc1-d8f033a61b58"
      },
      "outputs": [
        {
          "output_type": "stream",
          "name": "stdout",
          "text": [
            "(24332, 14)\n",
            "IPV4_SRC_ADDR                  object\n",
            "L4_SRC_PORT                     int64\n",
            "IPV4_DST_ADDR                  object\n",
            "L4_DST_PORT                     int64\n",
            "PROTOCOL                        int64\n",
            "L7_PROTO                      float64\n",
            "IN_BYTES                        int64\n",
            "OUT_BYTES                       int64\n",
            "IN_PKTS                         int64\n",
            "OUT_PKTS                        int64\n",
            "TCP_FLAGS                       int64\n",
            "FLOW_DURATION_MILLISECONDS      int64\n",
            "Label                           int64\n",
            "Attack                         object\n",
            "dtype: object\n",
            "IPV4_SRC_ADDR                    32\n",
            "L4_SRC_PORT                   20077\n",
            "IPV4_DST_ADDR                    36\n",
            "L4_DST_PORT                    8174\n",
            "PROTOCOL                        112\n",
            "L7_PROTO                         65\n",
            "IN_BYTES                       1497\n",
            "OUT_BYTES                      1699\n",
            "IN_PKTS                         289\n",
            "OUT_PKTS                        292\n",
            "TCP_FLAGS                         9\n",
            "FLOW_DURATION_MILLISECONDS     2357\n",
            "Label                             2\n",
            "Attack                           10\n",
            "dtype: int64\n"
          ]
        }
      ],
      "source": [
        "# Confirmation that the duplicates have been removed\n",
        "print(df.shape)\n",
        "# Consider what data type each feature is by default\n",
        "print(df.dtypes)\n",
        "# Count unique value for quick analysis\n",
        "print(df.nunique())"
      ]
    },
    {
      "cell_type": "code",
      "execution_count": null,
      "metadata": {
        "colab": {
          "base_uri": "https://localhost:8080/"
        },
        "id": "9WkxdtC3mzwP",
        "outputId": "e8147eb9-c2c8-4703-de52-b0c40de5579d"
      },
      "outputs": [
        {
          "output_type": "execute_result",
          "data": {
            "text/plain": [
              "IPV4_SRC_ADDR                  object\n",
              "L4_SRC_PORT                     int64\n",
              "IPV4_DST_ADDR                  object\n",
              "L4_DST_PORT                     int64\n",
              "PROTOCOL                        int64\n",
              "L7_PROTO                      float64\n",
              "IN_BYTES                        int64\n",
              "OUT_BYTES                       int64\n",
              "IN_PKTS                         int64\n",
              "OUT_PKTS                        int64\n",
              "TCP_FLAGS                       int64\n",
              "FLOW_DURATION_MILLISECONDS      int64\n",
              "Label                           int64\n",
              "Attack                         object\n",
              "IP_SRC_1                        int64\n",
              "IP_SRC_2                        int64\n",
              "IP_SRC_3                        int64\n",
              "IP_SRC_4                        int64\n",
              "IP_DST_1                        int64\n",
              "IP_DST_2                        int64\n",
              "IP_DST_3                        int64\n",
              "IP_DST_4                        int64\n",
              "dtype: object"
            ]
          },
          "metadata": {},
          "execution_count": 6
        }
      ],
      "source": [
        "# Separate the ocetets into separate features - perhaps useful for later\n",
        "\n",
        "# Separate IP address SRC and DST into multiple columns, so they can work as integers\n",
        "df[['IP_SRC_1', 'IP_SRC_2', 'IP_SRC_3', 'IP_SRC_4']] = df['IPV4_SRC_ADDR'].str.split(\".\", expand=True)\n",
        "df[['IP_DST_1', 'IP_DST_2', 'IP_DST_3', 'IP_DST_4']] = df['IPV4_DST_ADDR'].str.split(\".\", expand=True)\n",
        "\n",
        "\n",
        "# For loop, to change them into integers\n",
        "for col in ['IP_SRC_1', 'IP_SRC_2', 'IP_SRC_3', 'IP_SRC_4', 'IP_DST_1', 'IP_DST_2', 'IP_DST_3', 'IP_DST_4']:\n",
        "    df[col] = df[col].astype(int)\n",
        "\n",
        "df.dtypes"
      ]
    },
    {
      "cell_type": "markdown",
      "source": [
        "Internet Assigned Numbers Authority (IANA) has created the RFC 6335\n",
        "that introduces a uniform procedure and conventions on port numbers. Below\n",
        "is an overview of the port ranges and what they can be categorised as (Cotton\n",
        "et al., 2011, p. 11):\n",
        "• Range 0 - 1023 are system ports and are known as well known ports\n",
        "assigned by IANA. These are the ports that system processes or services\n",
        "listen to. For example, port 80 is used by HTTP and port 443 is used by\n",
        "HTTPS.\n",
        "• Range 1024 - 49151 are user ports and are known as the registered ports\n",
        "also assigned by IANA. These can be registered by software applications\n",
        "for use. For example, port 3306 is registered for MySQL.\n",
        "• Range 49152 - 65535 are dynamic ports and are known as private or\n",
        "ephemeral ports and these are never assigned.They are used for outbound connections and on a temporary basis. They are chosen at random when an application needs a port to use for a short period of time\n",
        "\n",
        "We will use this inforamtion and create 3 port groups that broadly can be categorized. This may or may not be useful for the analysis.\n"
      ],
      "metadata": {
        "id": "_vU-lMFGypuQ"
      }
    },
    {
      "cell_type": "code",
      "execution_count": null,
      "metadata": {
        "id": "KIrXx4uHmzwQ"
      },
      "outputs": [],
      "source": [
        "# Creating a new variable based on grouping the source and destination ports\n",
        "bins = [-np.inf, 1023, 49151, np.inf]\n",
        "labels = [1, 2, 3]\n",
        "df['Port_dst_group'] = pd.cut(df['L4_DST_PORT'], bins=bins, labels=labels)\n",
        "df['Port_src_group'] = pd.cut(df['L4_SRC_PORT'], bins=bins, labels=labels)\n"
      ]
    },
    {
      "cell_type": "code",
      "execution_count": null,
      "metadata": {
        "colab": {
          "base_uri": "https://localhost:8080/"
        },
        "id": "3u-kg74bmzwR",
        "outputId": "40913aaa-b8cc-4480-bfbc-0b65066247b9"
      },
      "outputs": [
        {
          "output_type": "stream",
          "name": "stdout",
          "text": [
            "(24332, 24)\n"
          ]
        }
      ],
      "source": [
        "# Confirmation that the new features have been added.\n",
        "print(df.shape)\n"
      ]
    },
    {
      "cell_type": "markdown",
      "metadata": {
        "id": "NW6tk7zrmzwT"
      },
      "source": [
        "# Examination of the data and each variable\n",
        "\n",
        "First we will consider ports"
      ]
    },
    {
      "cell_type": "code",
      "execution_count": null,
      "metadata": {
        "colab": {
          "base_uri": "https://localhost:8080/"
        },
        "id": "oe09OzEzmzwX",
        "outputId": "c22d5aa9-44e8-439a-d91e-9261f1f21d03"
      },
      "outputs": [
        {
          "output_type": "stream",
          "name": "stdout",
          "text": [
            "2    0.734670\n",
            "3    0.256822\n",
            "1    0.008507\n",
            "Name: Port_src_group, dtype: float64\n",
            "1    0.483766\n",
            "2    0.419324\n",
            "3    0.096909\n",
            "Name: Port_dst_group, dtype: float64\n",
            "1024     1\n",
            "1025     1\n",
            "1026     2\n",
            "1028     1\n",
            "1032     2\n",
            "        ..\n",
            "49133    1\n",
            "49137    1\n",
            "49147    1\n",
            "49150    1\n",
            "49151    1\n",
            "Name: L4_SRC_PORT, Length: 14890, dtype: int64\n"
          ]
        }
      ],
      "source": [
        "# We can quickly consider the distribution to see that we have each group represented as well as how much.\n",
        "print(df['Port_src_group'].value_counts(normalize=True))\n",
        "print(df['Port_dst_group'].value_counts(normalize=True))\n",
        "\n",
        "# Just a sanity check to ensure that the ranges are corretly set based on IANA\n",
        "test_port_range = df[df['Port_src_group'] == 2]['L4_SRC_PORT'].value_counts().sort_index()\n",
        "print(test_port_range)"
      ]
    },
    {
      "cell_type": "markdown",
      "metadata": {
        "id": "yIGn9ryRmzwZ"
      },
      "source": [
        "## L7 protocol\n",
        "\n",
        "This feature is somewhat interesting as it has more values than protocols available, and it also has float values. L7 protocol is the only feature that is a float data type. Unfortunately, there is no documentation on how this feature is represented numerically, and unlike the protocol feature, there is no standard for numerically assigning an application layer protocol. Below is an attempt to consider the distribution as well as consider how many are actual floats (have decimals that are not zero). Ultimately nothing is done for this feature as it will be pure speculation on my part on how to understand the categorical values."
      ]
    },
    {
      "cell_type": "code",
      "execution_count": null,
      "metadata": {
        "colab": {
          "base_uri": "https://localhost:8080/"
        },
        "id": "_Qrb9fgemzwa",
        "outputId": "2ae2a4e6-050f-4fbe-b07a-c35f2d1105c5"
      },
      "outputs": [
        {
          "output_type": "stream",
          "name": "stdout",
          "text": [
            "0.000      0.318059\n",
            "36.000     0.170064\n",
            "5.000      0.127445\n",
            "7.000      0.106444\n",
            "11.000     0.093211\n",
            "3.000      0.045208\n",
            "37.000     0.040893\n",
            "4.000      0.026056\n",
            "92.000     0.025234\n",
            "1.000      0.022809\n",
            "13.000     0.011220\n",
            "10.160     0.002754\n",
            "17.000     0.001438\n",
            "41.000     0.000986\n",
            "2.680      0.000945\n",
            "127.000    0.000781\n",
            "20.000     0.000740\n",
            "115.000    0.000699\n",
            "175.000    0.000699\n",
            "85.000     0.000575\n",
            "100.000    0.000575\n",
            "81.000     0.000247\n",
            "10.000     0.000247\n",
            "96.000     0.000164\n",
            "18.000     0.000164\n",
            "80.000     0.000123\n",
            "139.000    0.000123\n",
            "131.700    0.000123\n",
            "91.000     0.000123\n",
            "243.000    0.000123\n",
            "114.360    0.000082\n",
            "7.131      0.000082\n",
            "84.000     0.000082\n",
            "78.000     0.000082\n",
            "174.370    0.000082\n",
            "111.000    0.000082\n",
            "95.360     0.000082\n",
            "181.110    0.000041\n",
            "174.360    0.000041\n",
            "85.360     0.000041\n",
            "223.000    0.000041\n",
            "14.000     0.000041\n",
            "47.360     0.000041\n",
            "79.000     0.000041\n",
            "114.000    0.000041\n",
            "132.370    0.000041\n",
            "8.110      0.000041\n",
            "77.000     0.000041\n",
            "19.360     0.000041\n",
            "164.000    0.000041\n",
            "86.000     0.000041\n",
            "78.390     0.000041\n",
            "222.360    0.000041\n",
            "68.000     0.000041\n",
            "151.360    0.000041\n",
            "167.000    0.000041\n",
            "146.000    0.000041\n",
            "161.110    0.000041\n",
            "90.000     0.000041\n",
            "172.360    0.000041\n",
            "27.110     0.000041\n",
            "231.370    0.000041\n",
            "19.000     0.000041\n",
            "1.222      0.000041\n",
            "164.360    0.000041\n",
            "Name: L7_PROTO, dtype: float64\n",
            "23\n"
          ]
        }
      ],
      "source": [
        "# This will allow printing all rows to consider the distribution.\n",
        "with pd.option_context('display.max_rows', None):\n",
        "    print(df['L7_PROTO'].value_counts(normalize=True).round(6))\n",
        "\n",
        "# Create a mask where each value is True if the float value is not equal to its integer part, and False otherwise.\n",
        "mask = df['L7_PROTO'] != df['L7_PROTO'].astype(int)\n",
        "\n",
        "# Apply the mask to the DataFrame to filter it to only the rows where 'X' is not an integer, and count the unique values.\n",
        "count = df[mask]['L7_PROTO'].nunique()\n",
        "\n",
        "# This number tells us there are 170 values out of 265 that end with .0 (an integer).\n",
        "# Less than 100 are floats and they cover a small part of the distribution.\n",
        "print(count)"
      ]
    },
    {
      "cell_type": "markdown",
      "source": [
        "## TCP flags\n",
        "\n",
        "\n",
        "Representing TCP flags numerically is\n",
        "done by representing the TCP flags field as a 6-bit field as such:\n",
        "\n",
        "URG - ACK - PSH - RST- SYN - FIN\n",
        "\n",
        "0 -------- 0 ------ 0 ------ 0 ----- 0 ----- 0\n",
        "\n",
        "\n",
        "Note that the order is important and the standard principle is: URG, ACK,\n",
        "PSH, RST, SYN, FIN. Having this 6-bit field order, it allows us to count in\n",
        "binary. Below we can see what the value would correspond to if\n",
        "only one of the fields were assigned as 1.\n",
        "\n",
        "URG - ACK - PSH - RST- SYN - FIN\n",
        "\n",
        "32 ------ 16 ----- 8 ------ 4 ---- 2 ---- 1\n",
        "\n",
        "\n",
        "So, when we encounter the value of 36 in the dataset for TCP flags, we\n",
        "are able to convert it to binary to see which flags are set. 36 in binary would\n",
        "represent 100100, which means the URG and ACK flags are set. Considering\n",
        "that we only have 15 unique values for this feature, it could be worth to consider each individually and perhaps grouping them into common and uncommon\n",
        "combinations. For now it is left as it is."
      ],
      "metadata": {
        "id": "MywDg0lR0ivK"
      }
    },
    {
      "cell_type": "code",
      "execution_count": null,
      "metadata": {
        "colab": {
          "base_uri": "https://localhost:8080/"
        },
        "id": "kubd33Z6mzwc",
        "outputId": "0ccdee56-9e0d-494f-a878-9e034ef59849"
      },
      "outputs": [
        {
          "output_type": "stream",
          "name": "stdout",
          "text": [
            "27    0.678119\n",
            "0     0.280824\n",
            "19    0.032015\n",
            "18    0.003247\n",
            "26    0.002260\n",
            "25    0.001644\n",
            "2     0.001438\n",
            "24    0.000247\n",
            "22    0.000205\n",
            "Name: TCP_FLAGS, dtype: float64\n"
          ]
        }
      ],
      "source": [
        "# TCP FLAGS - nothing needs to be done\n",
        "print(df['TCP_FLAGS'].value_counts(normalize=True))"
      ]
    },
    {
      "cell_type": "markdown",
      "source": [
        "## Label and Attacks (target variable)\n",
        "Label = attack or not attack (binary)\n",
        "Attack = what type of attack (note that the \"Benign\" value represents \"not an attack\")\n"
      ],
      "metadata": {
        "id": "SOFdT29V2bf4"
      }
    },
    {
      "cell_type": "code",
      "execution_count": null,
      "metadata": {
        "colab": {
          "base_uri": "https://localhost:8080/"
        },
        "id": "5abK4m0Bmzwi",
        "outputId": "d9ce7049-1139-4ccb-ec1b-9de20f51a107"
      },
      "outputs": [
        {
          "output_type": "stream",
          "name": "stdout",
          "text": [
            "0    23246\n",
            "1     1086\n",
            "Name: Label, dtype: int64\n",
            "0    0.955367\n",
            "1    0.044633\n",
            "Name: Label, dtype: float64\n",
            "Benign            23246\n",
            "Exploits            371\n",
            "Fuzzers             292\n",
            "Reconnaissance      184\n",
            "Generic              84\n",
            "DoS                  76\n",
            "Analysis             30\n",
            "Backdoor             27\n",
            "Shellcode            20\n",
            "Worms                 2\n",
            "Name: Attack, dtype: int64\n",
            "Exploits          0.341621\n",
            "Fuzzers           0.268877\n",
            "Reconnaissance    0.169429\n",
            "Generic           0.077348\n",
            "DoS               0.069982\n",
            "Analysis          0.027624\n",
            "Backdoor          0.024862\n",
            "Shellcode         0.018416\n",
            "Worms             0.001842\n",
            "Name: Attack, dtype: float64\n"
          ]
        }
      ],
      "source": [
        "# Examine how many attacks exists\n",
        "print(df['Label'].value_counts())\n",
        "# To see the distribution in percentage\n",
        "print(df['Label'].value_counts(normalize=True))\n",
        "\n",
        "# Just to verify that with Attack we can consider the total attacks as well\n",
        "print(df['Attack'].value_counts())\n",
        "\n",
        "# Exclude benign from attacks so we can see the distribution of the attack types\n",
        "filtered_df = df[df['Attack'] != 'Benign']\n",
        "\n",
        "# Use value_counts() on the filtered dataframe\n",
        "print(filtered_df['Attack'].value_counts(normalize=True))\n"
      ]
    },
    {
      "cell_type": "code",
      "execution_count": null,
      "metadata": {
        "colab": {
          "base_uri": "https://localhost:8080/"
        },
        "id": "M9hGzvABmzwk",
        "outputId": "2046cb83-9bd6-408e-9d5e-c46987343fd0"
      },
      "outputs": [
        {
          "output_type": "execute_result",
          "data": {
            "text/plain": [
              "IP_src            category\n",
              "Port_src          category\n",
              "IP_dst            category\n",
              "Port_dst          category\n",
              "Proto             category\n",
              "L7proto           category\n",
              "InBytes              int64\n",
              "OutBytes             int64\n",
              "InPkts               int64\n",
              "OutPkts              int64\n",
              "TCP_flags         category\n",
              "FlowDurMS            int64\n",
              "Label                int64\n",
              "Attack            category\n",
              "IP_SRC_1             int64\n",
              "IP_SRC_2             int64\n",
              "IP_SRC_3             int64\n",
              "IP_SRC_4             int64\n",
              "IP_DST_1             int64\n",
              "IP_DST_2             int64\n",
              "IP_DST_3             int64\n",
              "IP_DST_4             int64\n",
              "Port_dst_group    category\n",
              "Port_src_group    category\n",
              "dtype: object"
            ]
          },
          "metadata": {},
          "execution_count": 13
        }
      ],
      "source": [
        "# We finalize this with changing some of the feature types as of these features is more representable as categorical values.\n",
        "df['PROTOCOL'] = df['PROTOCOL'].astype('category')\n",
        "df['L4_SRC_PORT'] = df['L4_SRC_PORT'].astype('category')\n",
        "df['L4_DST_PORT'] = df['L4_DST_PORT'].astype('category')\n",
        "df['IPV4_DST_ADDR'] = df['IPV4_DST_ADDR'].astype('category')\n",
        "df['IPV4_SRC_ADDR'] = df['IPV4_SRC_ADDR'].astype('category')\n",
        "df['L7_PROTO'] = df['L7_PROTO'].astype('category')\n",
        "df['TCP_FLAGS'] = df['TCP_FLAGS'].astype('category')\n",
        "df['Label'] = df['Label'].astype('int')\n",
        "df['Attack'] = df['Attack'].astype('category')\n",
        "\n",
        "# Change name for the ease of writing these columns.\n",
        "df = df.rename(columns={'IPV4_SRC_ADDR': 'IP_src', 'IPV4_DST_ADDR': 'IP_dst', 'L4_SRC_PORT': 'Port_src', 'L4_DST_PORT': 'Port_dst', 'PROTOCOL': 'Proto', 'L7_PROTO': 'L7proto', 'TCP_FLAGS': 'TCP_flags', 'IN_BYTES': 'InBytes', 'OUT_BYTES': 'OutBytes', 'IN_PKTS': 'InPkts', 'OUT_PKTS': 'OutPkts', 'FLOW_DURATION_MILLISECONDS': 'FlowDurMS'\n",
        "})\n",
        "\n",
        "\n",
        "df.dtypes"
      ]
    },
    {
      "cell_type": "code",
      "execution_count": null,
      "metadata": {
        "colab": {
          "base_uri": "https://localhost:8080/"
        },
        "id": "7jzwHHzCmzwo",
        "outputId": "6a7e4c7a-efd2-4cce-ddf5-56976c7cc7ea"
      },
      "outputs": [
        {
          "output_type": "execute_result",
          "data": {
            "text/plain": [
              "Index(['IP_src', 'Port_src', 'IP_dst', 'Port_dst', 'Proto', 'L7proto',\n",
              "       'InBytes', 'OutBytes', 'InPkts', 'OutPkts', 'TCP_flags', 'FlowDurMS',\n",
              "       'IP_SRC_1', 'IP_SRC_2', 'IP_SRC_3', 'IP_SRC_4', 'IP_DST_1', 'IP_DST_2',\n",
              "       'IP_DST_3', 'IP_DST_4', 'Port_dst_group', 'Port_src_group', 'Attack',\n",
              "       'Label'],\n",
              "      dtype='object')"
            ]
          },
          "metadata": {},
          "execution_count": 14
        }
      ],
      "source": [
        "#Change the order so the last column is our y (target variable)\n",
        "df = df.reindex(columns=[c for c in df.columns if c != 'Attack'] + ['Attack'])\n",
        "df = df.reindex(columns=[c for c in df.columns if c != 'Label'] + ['Label'])\n",
        "\n",
        "df.columns"
      ]
    },
    {
      "cell_type": "code",
      "execution_count": null,
      "metadata": {
        "colab": {
          "base_uri": "https://localhost:8080/"
        },
        "id": "4tJASgHDmzws",
        "outputId": "ce13a3e9-ef5f-4725-ec4e-8f7246120abc"
      },
      "outputs": [
        {
          "output_type": "stream",
          "name": "stdout",
          "text": [
            "IP_src            category\n",
            "Port_src          category\n",
            "IP_dst            category\n",
            "Port_dst          category\n",
            "Proto             category\n",
            "L7proto           category\n",
            "InBytes              int64\n",
            "OutBytes             int64\n",
            "InPkts               int64\n",
            "OutPkts              int64\n",
            "TCP_flags         category\n",
            "FlowDurMS            int64\n",
            "IP_SRC_1             int64\n",
            "IP_SRC_2             int64\n",
            "IP_SRC_3             int64\n",
            "IP_SRC_4             int64\n",
            "IP_DST_1             int64\n",
            "IP_DST_2             int64\n",
            "IP_DST_3             int64\n",
            "IP_DST_4             int64\n",
            "Port_dst_group    category\n",
            "Port_src_group    category\n",
            "Attack            category\n",
            "Label                int64\n",
            "dtype: object\n",
            "(24332, 24)\n"
          ]
        }
      ],
      "source": [
        "print(df.dtypes)\n",
        "print(df.shape)"
      ]
    },
    {
      "cell_type": "code",
      "execution_count": null,
      "metadata": {
        "id": "9YJ5x1Jkmzwt"
      },
      "outputs": [],
      "source": [
        "save_path = \"/content/drive/My Drive/Projects (Github)/NF-UNSW-NB15/subset-cleanedNFdata.csv\"\n",
        "df.to_csv(save_path, index=False)  # `index=False` ensures that row indices are not saved\n"
      ]
    }
  ],
  "metadata": {
    "kernelspec": {
      "display_name": "Python 3",
      "language": "python",
      "name": "python3"
    },
    "language_info": {
      "name": "python",
      "version": "3.8.10"
    },
    "orig_nbformat": 4,
    "colab": {
      "provenance": []
    }
  },
  "nbformat": 4,
  "nbformat_minor": 0
}